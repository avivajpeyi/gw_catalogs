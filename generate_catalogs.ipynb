{
 "cells": [
  {
   "cell_type": "markdown",
   "source": [
    "# Generate LVC-External GW Catalogs"
   ],
   "metadata": {
    "collapsed": false
   }
  },
  {
   "cell_type": "markdown",
   "source": [
    "## 1: Intallations + data download"
   ],
   "metadata": {
    "collapsed": false
   }
  },
  {
   "cell_type": "markdown",
   "source": [
    "Install pip packages in the current Jupyter kernel"
   ],
   "metadata": {
    "collapsed": false
   }
  },
  {
   "cell_type": "code",
   "execution_count": null,
   "outputs": [],
   "source": [
    "import sys\n",
    "!{sys.executable} -m pip install -r requirements.txt --quiet"
   ],
   "metadata": {
    "collapsed": false,
    "pycharm": {
     "name": "#%%\n"
    }
   }
  },
  {
   "cell_type": "markdown",
   "source": [
    "Download IAS and PyCBC posterior samples to the following data-dirs, and also the LVC GWTC-2 catalog."
   ],
   "metadata": {
    "collapsed": false
   }
  },
  {
   "cell_type": "code",
   "execution_count": null,
   "outputs": [],
   "source": [
    "! mkdir -p data/pycbc_search data/ias_search\n",
    "! cat data_files.txt | xargs -n 3 -P 2 wget -q --show-progress"
   ],
   "metadata": {
    "collapsed": false,
    "pycharm": {
     "name": "#%%\n"
    }
   }
  },
  {
   "cell_type": "markdown",
   "source": [
    "## 2: Generate External Catalogs"
   ],
   "metadata": {
    "collapsed": false
   }
  },
  {
   "cell_type": "markdown",
   "source": [
    "We can generate catalogs with the posterior samples we have just downloaded. The code for the catalog generation from posterior samples is stored in the `catalog_generators` module."
   ],
   "metadata": {
    "collapsed": false
   }
  },
  {
   "cell_type": "code",
   "execution_count": null,
   "outputs": [],
   "source": [
    "LVC_CATALOG = \"./data/lvc_catalog.json\"\n",
    "IAS_CATALOG = \"./data/ias_catalog.json\"\n",
    "PYCBC_CATALOG = \"./data/pycbc_catalog.json\"\n",
    "CATALOGS = [LVC_CATALOG, IAS_CATALOG, PYCBC_CATALOG]"
   ],
   "metadata": {
    "collapsed": false,
    "pycharm": {
     "name": "#%%\n"
    }
   }
  },
  {
   "cell_type": "code",
   "execution_count": null,
   "outputs": [],
   "source": [
    "from catalog_generators import generate_ias_catalog\n",
    "generate_ias_catalog(\n",
    "    data_dir='./data/ias_search/',\n",
    "    out_catalog_fname=IAS_CATALOG\n",
    ")"
   ],
   "metadata": {
    "collapsed": false,
    "pycharm": {
     "name": "#%%\n"
    }
   }
  },
  {
   "cell_type": "code",
   "execution_count": null,
   "outputs": [],
   "source": [
    "from catalog_generators import generate_pycbc_catalog\n",
    "generate_pycbc_catalog(\n",
    "    data_dir='./data/pycbc_search/',\n",
    "    out_catalog_fname=PYCBC_CATALOG\n",
    ")"
   ],
   "metadata": {
    "collapsed": false,
    "pycharm": {
     "name": "#%%\n"
    }
   }
  },
  {
   "cell_type": "markdown",
   "source": [
    "## 3: Display plot of Catalog Event Masses"
   ],
   "metadata": {
    "collapsed": false
   }
  },
  {
   "cell_type": "markdown",
   "source": [
    "Define functions to parse the catalog json files."
   ],
   "metadata": {
    "collapsed": false
   }
  },
  {
   "cell_type": "code",
   "execution_count": null,
   "outputs": [],
   "source": [
    "import pandas as pd\n",
    "import json\n",
    "\n",
    "def read_json(json_path)->dict:\n",
    "    with open(json_path, 'r') as f:\n",
    "        return json.load(f)\n",
    "\n",
    "def catalog_to_dataframe(catalog_path):\n",
    "    catalog_dict = read_json(catalog_path)\n",
    "    events = catalog_dict['events']\n",
    "    return pd.DataFrame([v for v in events.values()])"
   ],
   "metadata": {
    "collapsed": false,
    "pycharm": {
     "name": "#%%\n"
    }
   }
  },
  {
   "cell_type": "markdown",
   "source": [
    "Combine the catalogs into one Pandas DataFrame."
   ],
   "metadata": {
    "collapsed": false
   }
  },
  {
   "cell_type": "code",
   "execution_count": null,
   "outputs": [],
   "source": [
    "catalogs_df = pd.concat([catalog_to_dataframe(c) for c in CATALOGS])\n",
    "catalogs_df"
   ],
   "metadata": {
    "collapsed": false,
    "pycharm": {
     "name": "#%%\n"
    }
   }
  },
  {
   "cell_type": "markdown",
   "source": [
    "Plot the masses of the catalogs"
   ],
   "metadata": {
    "collapsed": false
   }
  },
  {
   "cell_type": "code",
   "execution_count": null,
   "metadata": {
    "collapsed": true
   },
   "outputs": [],
   "source": [
    "from matplotlib import pyplot as plt\n",
    "from matplotlib import rcParams\n",
    "rcParams[\"font.size\"] = 20\n",
    "rcParams[\"font.family\"] = \"serif\"\n",
    "rcParams[\"font.sans-serif\"] = [\"Computer Modern Sans\"]\n",
    "rcParams[\"text.usetex\"] = False\n",
    "rcParams['axes.labelsize'] = 30\n",
    "rcParams['axes.titlesize'] = 30\n",
    "rcParams['axes.labelpad'] = 20\n",
    "\n",
    "\n",
    "def plot_masses(catalog_df):\n",
    "    fig, ax = plt.subplots(nrows=1, ncols=1, figsize=(10, 10))\n",
    "    ax.set_xlabel(\"Source Mass 1\", fontsize=\"x-large\")\n",
    "    ax.set_ylabel(\"Source Mass 2\", fontsize=\"x-large\")\n",
    "    ax.set_yscale(\"log\")\n",
    "    ax.set_xscale(\"log\")\n",
    "    different_catalogs = set(list(catalog_df[\"catalog.shortName\"]))\n",
    "    for cat_name in different_catalogs:\n",
    "        data = catalog_df[catalog_df[\"catalog.shortName\"] == cat_name]\n",
    "        ax.scatter(data['mass_1_source'], data['mass_2_source'], label=cat_name)\n",
    "    ax.legend(bbox_to_anchor=(1,1), loc=\"upper left\", frameon=False)\n",
    "\n",
    "plot_masses(catalogs_df)"
   ]
  }
 ],
 "metadata": {
  "kernelspec": {
   "display_name": "Python 3",
   "language": "python",
   "name": "python3"
  },
  "language_info": {
   "codemirror_mode": {
    "name": "ipython",
    "version": 2
   },
   "file_extension": ".py",
   "mimetype": "text/x-python",
   "name": "python",
   "nbconvert_exporter": "python",
   "pygments_lexer": "ipython2",
   "version": "2.7.6"
  }
 },
 "nbformat": 4,
 "nbformat_minor": 0
}